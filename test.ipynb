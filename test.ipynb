{
 "cells": [
  {
   "cell_type": "code",
   "execution_count": 6,
   "metadata": {
    "collapsed": true
   },
   "outputs": [
    {
     "name": "stdout",
     "output_type": "stream",
     "text": [
      "1554179750.217898\n2019-04-02 12:35:50.217898\n2019-04-02 12:35:50.217898 <class 'numpy.ndarray'>\n"
     ]
    }
   ],
   "source": [
    "# unix time convert to the format matplotlib undertand \n",
    "import datetime as dt\n",
    "import time\n",
    "import numpy as np\n",
    "\n",
    "example = time.time()\n",
    "print(example)      #unix time\n",
    "print(dt.datetime.fromtimestamp(example))\n",
    "\n",
    "dateconv = np.vectorize(dt.datetime.fromtimestamp)\n",
    "print(dateconv(example), type(dateconv(example)))"
   ]
  },
  {
   "cell_type": "code",
   "execution_count": 1,
   "metadata": {},
   "outputs": [
    {
     "name": "stdout",
     "output_type": "stream",
     "text": [
      "0 4\n1 4\n2 1\n3 0\n4 1\n5 5\n6 7\n7 1\n8 9\n9 9\n"
     ]
    }
   ],
   "source": [
    "import random\n",
    "for i in range(10):\n",
    "        x = i\n",
    "        y = random.randrange(10)\n",
    "        \n",
    "        print(x, y)"
   ]
  },
  {
   "cell_type": "code",
   "execution_count": 14,
   "metadata": {},
   "outputs": [
    {
     "name": "stdout",
     "output_type": "stream",
     "text": [
      "0 left\n1 right\n2 up\n3 down\n"
     ]
    }
   ],
   "source": [
    "example = ['left','right','up','down']\n",
    "\n",
    "# enumrate  demo1\n",
    "for i in range(len(example)):\n",
    "    print(i, example[i])"
   ]
  },
  {
   "cell_type": "code",
   "execution_count": 20,
   "metadata": {},
   "outputs": [
    {
     "name": "stdout",
     "output_type": "stream",
     "text": [
      "0 left\n1 right\n2 up\n3 down\n"
     ]
    }
   ],
   "source": [
    "# enumrate  demo2\n",
    "for i,j in enumerate(example):\n",
    "    print(i,j)"
   ]
  },
  {
   "cell_type": "code",
   "execution_count": 16,
   "metadata": {},
   "outputs": [
    {
     "name": "stdout",
     "output_type": "stream",
     "text": [
      "0 left\n1 right\n2 up\n3 down\n"
     ]
    },
    {
     "data": {
      "text/plain": [
       "[None, None, None, None]"
      ]
     },
     "execution_count": 16,
     "metadata": {},
     "output_type": "execute_result"
    }
   ],
   "source": [
    "# enumrate  demo3\n",
    "example_dict = {'left':'<','right':'>','up':'^','down':'v',}\n",
    "[print(i,j) for i,j in enumerate(example_dict)]"
   ]
  },
  {
   "cell_type": "code",
   "execution_count": 18,
   "metadata": {},
   "outputs": [
    {
     "name": "stdout",
     "output_type": "stream",
     "text": [
      "{0: 'left', 1: 'right', 2: 'up', 3: 'down'}\n"
     ]
    }
   ],
   "source": [
    "# enumrate  demo4\n",
    "example_dict = {'left':'<','right':'>','up':'^','down':'v',}\n",
    "    \n",
    "new_dict = dict(enumerate(example))\n",
    "print(new_dict)"
   ]
  },
  {
   "cell_type": "code",
   "execution_count": 5,
   "metadata": {},
   "outputs": [
    {
     "name": "stdout",
     "output_type": "stream",
     "text": [
      "[[1 2]\n [1 2]] [[0 0]\n [0 0]]\n"
     ]
    }
   ],
   "source": [
    "import numpy as np\n",
    "\n",
    "x = [1,2]\n",
    "y = [0,0]\n",
    "x, y = np.meshgrid(x, y)\n",
    "print(x, y)"
   ]
  },
  {
   "cell_type": "code",
   "execution_count": 6,
   "metadata": {},
   "outputs": [
    {
     "name": "stdout",
     "output_type": "stream",
     "text": [
      "(3, 2) <class 'tuple'>\n"
     ]
    }
   ],
   "source": [
    "x = (3,2)\n",
    "print(x,type(x))"
   ]
  },
  {
   "cell_type": "code",
   "execution_count": null,
   "metadata": {},
   "outputs": [],
   "source": []
  }
 ],
 "metadata": {
  "kernelspec": {
   "display_name": "Python 2",
   "language": "python",
   "name": "python2"
  },
  "language_info": {
   "codemirror_mode": {
    "name": "ipython",
    "version": 2
   },
   "file_extension": ".py",
   "mimetype": "text/x-python",
   "name": "python",
   "nbconvert_exporter": "python",
   "pygments_lexer": "ipython2",
   "version": "2.7.6"
  }
 },
 "nbformat": 4,
 "nbformat_minor": 0
}
